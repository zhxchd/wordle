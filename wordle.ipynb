{
 "cells": [
  {
   "cell_type": "code",
   "execution_count": 25,
   "metadata": {},
   "outputs": [
    {
     "name": "stdout",
     "output_type": "stream",
     "text": [
      "New wordle initialized with random answer!\n"
     ]
    }
   ],
   "source": [
    "from wordle import *\n",
    "\n",
    "game = wordle()"
   ]
  },
  {
   "cell_type": "code",
   "execution_count": 21,
   "metadata": {},
   "outputs": [
    {
     "name": "stdout",
     "output_type": "stream",
     "text": [
      "🟨🟨🟨⬛⬛\n",
      "You have 5 attempts left!\n"
     ]
    }
   ],
   "source": [
    "game.guess(\"ocean\")"
   ]
  },
  {
   "cell_type": "code",
   "execution_count": 22,
   "metadata": {},
   "outputs": [
    {
     "name": "stdout",
     "output_type": "stream",
     "text": [
      "🟨⬛⬛🟨🟨\n",
      "You have 4 attempts left!\n"
     ]
    }
   ],
   "source": [
    "game.guess(\"ounce\")"
   ]
  },
  {
   "cell_type": "code",
   "execution_count": 23,
   "metadata": {},
   "outputs": [
    {
     "name": "stdout",
     "output_type": "stream",
     "text": [
      "⬛⬛⬛⬛🟨\n",
      "You have 3 attempts left!\n"
     ]
    }
   ],
   "source": [
    "game.guess(\"fluid\")"
   ]
  },
  {
   "cell_type": "code",
   "execution_count": 24,
   "metadata": {},
   "outputs": [
    {
     "name": "stdout",
     "output_type": "stream",
     "text": [
      "🟩🟩🟩🟩🟩\n",
      "Congrats! (4/6)\n"
     ]
    }
   ],
   "source": [
    "game.guess(\"codes\")"
   ]
  }
 ],
 "metadata": {
  "interpreter": {
   "hash": "2a2dd769cecedecfe05f0f0188a5af1f00f6d4ca8f0230fa86a1fa936f2e63f6"
  },
  "kernelspec": {
   "display_name": "Python 3.9.9 64-bit",
   "language": "python",
   "name": "python3"
  },
  "language_info": {
   "codemirror_mode": {
    "name": "ipython",
    "version": 3
   },
   "file_extension": ".py",
   "mimetype": "text/x-python",
   "name": "python",
   "nbconvert_exporter": "python",
   "pygments_lexer": "ipython3",
   "version": "3.9.9"
  },
  "orig_nbformat": 4
 },
 "nbformat": 4,
 "nbformat_minor": 2
}
