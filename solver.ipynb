{
 "cells": [
  {
   "cell_type": "code",
   "execution_count": 2,
   "metadata": {},
   "outputs": [],
   "source": [
    "import math\n",
    "\n",
    "f = open(\"sgb-words.txt\", \"r\")\n",
    "word_list = f.read().splitlines()\n",
    "word_set = set(word_list)\n",
    "f.close()"
   ]
  },
  {
   "cell_type": "code",
   "execution_count": 27,
   "metadata": {},
   "outputs": [],
   "source": [
    "def compare(word, ans):\n",
    "    result = [None for _ in range(5)]\n",
    "    letter_counts = {}\n",
    "\n",
    "    for c in ans:\n",
    "        letter_counts[c] = letter_counts.get(c, 0) + 1\n",
    "    \n",
    "    # first give all the green and black responses\n",
    "    for i in range(5):\n",
    "        if word[i] == ans[i]:\n",
    "            result[i] = 1\n",
    "            letter_counts[word[i]] -= 1\n",
    "        elif word[i] not in ans:\n",
    "            result[i] = -1\n",
    "    \n",
    "    for i in range(5):\n",
    "        if result[i] is None:\n",
    "            if word[i] in ans and letter_counts[word[i]] >= 1:\n",
    "                result[i] = 0\n",
    "                letter_counts[word[i]] -= 1\n",
    "            else:\n",
    "                result[i] = -1\n",
    "    \n",
    "    return result\n",
    "\n",
    "def entropy(word):\n",
    "    dict = {}\n",
    "    for ans in word_list:\n",
    "        res = str(compare(word, ans))\n",
    "        if res in dict:\n",
    "            dict[res] += 1\n",
    "        else:\n",
    "            dict[res] = 1\n",
    "    \n",
    "    total = sum(dict.values())\n",
    "    entropy = sum([i/total * math.log(total/i, 2.0) for i in dict.values()])\n",
    "    return entropy"
   ]
  },
  {
   "cell_type": "code",
   "execution_count": 34,
   "metadata": {},
   "outputs": [
    {
     "data": {
      "text/plain": [
       "5.4107320800292245"
      ]
     },
     "execution_count": 34,
     "metadata": {},
     "output_type": "execute_result"
    }
   ],
   "source": [
    "entropy(\"penis\")"
   ]
  },
  {
   "cell_type": "code",
   "execution_count": 35,
   "metadata": {},
   "outputs": [
    {
     "data": {
      "text/plain": [
       "4.839243976778028"
      ]
     },
     "execution_count": 35,
     "metadata": {},
     "output_type": "execute_result"
    }
   ],
   "source": [
    "entropy(\"ocean\")"
   ]
  },
  {
   "cell_type": "code",
   "execution_count": 37,
   "metadata": {},
   "outputs": [],
   "source": [
    "max = 0.0\n",
    "max_word = \"\"\n",
    "\n",
    "for word in word_list:\n",
    "    ent = entropy(word)\n",
    "    if ent > max:\n",
    "        max = ent\n",
    "        max_word = word"
   ]
  },
  {
   "cell_type": "code",
   "execution_count": 41,
   "metadata": {},
   "outputs": [
    {
     "data": {
      "text/plain": [
       "'tares'"
      ]
     },
     "execution_count": 41,
     "metadata": {},
     "output_type": "execute_result"
    }
   ],
   "source": [
    "max_word"
   ]
  },
  {
   "cell_type": "code",
   "execution_count": 51,
   "metadata": {},
   "outputs": [
    {
     "data": {
      "text/plain": [
       "6.20918105971901"
      ]
     },
     "execution_count": 51,
     "metadata": {},
     "output_type": "execute_result"
    }
   ],
   "source": [
    "entropy(\"tares\")"
   ]
  }
 ],
 "metadata": {
  "interpreter": {
   "hash": "2a2dd769cecedecfe05f0f0188a5af1f00f6d4ca8f0230fa86a1fa936f2e63f6"
  },
  "kernelspec": {
   "display_name": "Python 3.9.9 64-bit",
   "language": "python",
   "name": "python3"
  },
  "language_info": {
   "codemirror_mode": {
    "name": "ipython",
    "version": 3
   },
   "file_extension": ".py",
   "mimetype": "text/x-python",
   "name": "python",
   "nbconvert_exporter": "python",
   "pygments_lexer": "ipython3",
   "version": "3.9.9"
  },
  "orig_nbformat": 4
 },
 "nbformat": 4,
 "nbformat_minor": 2
}
